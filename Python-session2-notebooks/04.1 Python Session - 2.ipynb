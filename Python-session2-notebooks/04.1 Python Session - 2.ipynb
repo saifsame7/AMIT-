{
 "cells": [
  {
   "cell_type": "markdown",
   "id": "e1aa6fd3",
   "metadata": {},
   "source": [
    "# Python Sessions with DEPI - session 2"
   ]
  },
  {
   "cell_type": "markdown",
   "id": "f7df43d7",
   "metadata": {},
   "source": [
    "### Slicing a List"
   ]
  },
  {
   "cell_type": "code",
   "execution_count": null,
   "id": "3f59e1ea",
   "metadata": {
    "tags": []
   },
   "outputs": [],
   "source": [
    "# Working with Part of a List\n",
    "names = ['mahmoud', 'ali', 'ahmed', 'mohamed']\n",
    "\n",
    "# Print the first 3 items in the list\n",
    "\n",
    "\n",
    "# Print the first 4 items in the list\n"
   ]
  },
  {
   "cell_type": "code",
   "execution_count": null,
   "id": "2428da56",
   "metadata": {
    "tags": []
   },
   "outputs": [],
   "source": [
    "# Print the last item in the list\n"
   ]
  },
  {
   "cell_type": "code",
   "execution_count": null,
   "id": "fa656737",
   "metadata": {
    "tags": []
   },
   "outputs": [],
   "source": [
    "names = ['mahmoud', 'ali', 'ahmed', 'mohamed']\n",
    "# What is the output?\n",
    "print(names[:4])\n",
    "print(names[2:])\n",
    "print(names[-3:])\n",
    "print(names[-3:-2])"
   ]
  },
  {
   "cell_type": "code",
   "execution_count": null,
   "id": "7c285ac1",
   "metadata": {
    "tags": []
   },
   "outputs": [],
   "source": [
    "# Looping Through a Slice\n",
    "names = ['mahmoud', 'ali', 'ahmed', 'mohamed']\n",
    "\n",
    "\n",
    "\n"
   ]
  },
  {
   "cell_type": "code",
   "execution_count": null,
   "id": "dc591dab",
   "metadata": {
    "tags": []
   },
   "outputs": [],
   "source": [
    "# Copying a List\n",
    "\n",
    "my_foods = ['pizza', 'falafel', 'cake']\n",
    "\n",
    "\n",
    "\n",
    "\n"
   ]
  },
  {
   "cell_type": "markdown",
   "id": "bb27ad0e",
   "metadata": {},
   "source": [
    "#### Tuples\n",
    "Python refers to values that cannot change as immutable, and an immutable list is called a tuple."
   ]
  },
  {
   "cell_type": "code",
   "execution_count": null,
   "id": "fb398f9c",
   "metadata": {
    "tags": []
   },
   "outputs": [],
   "source": [
    "# Create a Tuple and print the first item in it\n",
    "\n"
   ]
  },
  {
   "cell_type": "markdown",
   "id": "65a324eb",
   "metadata": {},
   "source": [
    "You can not modify the values in tuples "
   ]
  },
  {
   "cell_type": "code",
   "execution_count": null,
   "id": "2b08b7c1",
   "metadata": {
    "tags": []
   },
   "outputs": [],
   "source": [
    "# Modify the first item in the tuple (can we?)\n"
   ]
  },
  {
   "cell_type": "markdown",
   "id": "4a8e673e",
   "metadata": {},
   "source": [
    "### Dictionaries\n",
    "A dictionary in Python is a collection of key-value pairs. Each key is connected\n",
    "to a value, and you can use a key to access the value associated with that key.\n",
    "\n",
    "\n",
    "A key’s value can be a number, a string, a list, or even another dictionary.\n"
   ]
  },
  {
   "cell_type": "code",
   "execution_count": null,
   "id": "be6b8505",
   "metadata": {
    "tags": []
   },
   "outputs": [],
   "source": [
    "user = {'Name': 'Ali',\n",
    "        'Age': 25}   \n",
    "# What is the output? \n",
    "print(user['Name'])\n",
    "print(user['Age'])\n"
   ]
  },
  {
   "cell_type": "code",
   "execution_count": null,
   "id": "665de569",
   "metadata": {
    "tags": []
   },
   "outputs": [],
   "source": [
    "# What is the output?\n",
    "user2 = {10 : 20, 30 : 5}\n",
    "user2"
   ]
  },
  {
   "cell_type": "code",
   "execution_count": null,
   "id": "cc32ced4",
   "metadata": {
    "tags": []
   },
   "outputs": [],
   "source": [
    "# What is the output?\n",
    "print(user2[30])"
   ]
  },
  {
   "cell_type": "code",
   "execution_count": null,
   "id": "ee42d31b",
   "metadata": {
    "tags": []
   },
   "outputs": [],
   "source": [
    "# Adding New Key-Value Pairs\n",
    "\n",
    "user = {'Name': 'Ali', 'Age': 25}\n",
    "\n",
    "# Add 2 new key-value pairs which 'Address':'Egypt' and 'weight':70\n",
    "\n",
    "\n"
   ]
  },
  {
   "cell_type": "code",
   "execution_count": null,
   "id": "4e54b3e8",
   "metadata": {},
   "outputs": [],
   "source": [
    "# Try to access the value corresponding to the key 'Ali'\n"
   ]
  },
  {
   "cell_type": "code",
   "execution_count": null,
   "id": "14705853",
   "metadata": {
    "jupyter": {
     "outputs_hidden": true
    }
   },
   "outputs": [],
   "source": [
    "# Modifying Values in a Dictionary\n",
    "\n",
    "# What is the output?\n",
    "user['Address'] = 'USA'\n",
    "user"
   ]
  },
  {
   "cell_type": "code",
   "execution_count": null,
   "id": "81b82354",
   "metadata": {
    "tags": []
   },
   "outputs": [],
   "source": [
    "# Removing Key-Value Pairs\n",
    "\n",
    "# What is the output?\n",
    "del user['Address']\n",
    "user "
   ]
  },
  {
   "cell_type": "code",
   "execution_count": null,
   "id": "e135ed36",
   "metadata": {
    "tags": []
   },
   "outputs": [],
   "source": [
    "# A Dictionary of Similar Objects\n",
    "\n",
    "# What is the output?\n",
    "favorite_languages = {\n",
    "'mohamed': 'python',\n",
    "'sara': 'c',\n",
    "'emad': 'ruby',\n",
    "'sara': 'c++',\n",
    "}\n",
    "print(favorite_languages['sara'])\n",
    "print(favorite_languages['ola'])\n"
   ]
  },
  {
   "cell_type": "code",
   "execution_count": null,
   "id": "6010ff20",
   "metadata": {
    "jupyter": {
     "outputs_hidden": true
    }
   },
   "outputs": [],
   "source": [
    "# What is the output?\n",
    "favorite_languages"
   ]
  },
  {
   "cell_type": "code",
   "execution_count": null,
   "id": "cd5a703e",
   "metadata": {
    "tags": []
   },
   "outputs": [],
   "source": [
    "# Check if 'max' is a key in the dictionary 'favorite_languages'\n",
    "\n"
   ]
  },
  {
   "cell_type": "code",
   "execution_count": null,
   "id": "7d9cc5a9",
   "metadata": {
    "collapsed": true,
    "tags": []
   },
   "outputs": [],
   "source": [
    "user = {'Name': 'Ali',\n",
    "        'Age': 25}"
   ]
  },
  {
   "cell_type": "code",
   "execution_count": null,
   "id": "4d6626fc",
   "metadata": {
    "tags": []
   },
   "outputs": [],
   "source": [
    "#Looping Through a Dictionary\n",
    "\n",
    "# What is the output?\n",
    "for a, b in user.items():\n",
    "    print(f\"\\nKey: {a}\")\n",
    "    print(f\"Value: {b}\")"
   ]
  },
  {
   "cell_type": "code",
   "execution_count": null,
   "id": "13bf45d6",
   "metadata": {
    "jupyter": {
     "outputs_hidden": true
    }
   },
   "outputs": [],
   "source": [
    "# What is the output?\n",
    "print(f\"\\nKey: {a}\")"
   ]
  },
  {
   "cell_type": "code",
   "execution_count": null,
   "id": "64543af1",
   "metadata": {
    "jupyter": {
     "outputs_hidden": true
    }
   },
   "outputs": [],
   "source": [
    "# What is the output?\n",
    "print(f\"Key: {a}\")"
   ]
  },
  {
   "cell_type": "code",
   "execution_count": null,
   "id": "0e180e3e",
   "metadata": {
    "jupyter": {
     "outputs_hidden": true
    }
   },
   "outputs": [],
   "source": [
    "# Show the dictionary\n",
    "user"
   ]
  },
  {
   "cell_type": "code",
   "execution_count": null,
   "id": "fbf8c791",
   "metadata": {
    "tags": []
   },
   "outputs": [],
   "source": [
    "# print all the keys in the dictionary\n",
    "\n",
    "\n",
    "\n"
   ]
  },
  {
   "cell_type": "code",
   "execution_count": null,
   "id": "55bd8443",
   "metadata": {
    "tags": []
   },
   "outputs": [],
   "source": [
    "# print all the vlaues in the dictionary\n",
    "\n",
    "\n",
    "\n"
   ]
  },
  {
   "cell_type": "markdown",
   "id": "1fda40dd",
   "metadata": {},
   "source": [
    "### if Statements"
   ]
  },
  {
   "cell_type": "code",
   "execution_count": null,
   "id": "bea308c6",
   "metadata": {
    "tags": []
   },
   "outputs": [],
   "source": [
    "age = 17\n",
    "\n",
    "# What is the output?\n",
    "print(age == 17)"
   ]
  },
  {
   "cell_type": "markdown",
   "id": "5f8fdf13",
   "metadata": {},
   "source": [
    "A single equal sign is really a statement; you might read the code as “Set the value of age equal to 19.” \n",
    "\n",
    "\n",
    "On the other hand, a double equal sign (==) , asks a question: “Is the value of age equal to 17?”\n",
    "\n"
   ]
  },
  {
   "cell_type": "code",
   "execution_count": null,
   "id": "83d8a27b",
   "metadata": {
    "tags": []
   },
   "outputs": [],
   "source": [
    "# What is the output?\n",
    "age = 15\n",
    "if age == 15:\n",
    "    print(\"You can vote!\")"
   ]
  },
  {
   "cell_type": "code",
   "execution_count": null,
   "id": "18e69649",
   "metadata": {
    "tags": []
   },
   "outputs": [],
   "source": [
    "# What is the output?\n",
    "age = 19\n",
    "if age != 15:\n",
    "    print(\"You can not vote!\")\n"
   ]
  },
  {
   "cell_type": "code",
   "execution_count": null,
   "id": "cf18b54d",
   "metadata": {
    "tags": []
   },
   "outputs": [],
   "source": [
    "# Check Whether a Value Is in a List\n",
    "names = ['Ali', 'mohamed', 'mona']\n",
    "\n",
    "\n"
   ]
  },
  {
   "cell_type": "code",
   "execution_count": null,
   "id": "f7f9b853",
   "metadata": {
    "tags": []
   },
   "outputs": [],
   "source": [
    "# Check Whether a Value Is Not in a List\n",
    "\n",
    "banned_users = ['Ali', 'mohamed', 'mona']\n",
    "user = 'max'\n",
    "\n",
    "    "
   ]
  },
  {
   "cell_type": "code",
   "execution_count": null,
   "id": "4abbf49b",
   "metadata": {
    "tags": []
   },
   "outputs": [],
   "source": [
    "# if-else Statements\n",
    "my_list = ['samy', 'bmw', 'mona', 'toyota']\n",
    "\n",
    "# What is the output?\n",
    "for i in my_list:\n",
    "    if i == 'bmw':\n",
    "       print(i.upper())\n",
    "    else:\n",
    "       print(i.title())\n"
   ]
  },
  {
   "cell_type": "code",
   "execution_count": null,
   "id": "a7179b79",
   "metadata": {
    "jupyter": {
     "outputs_hidden": true
    }
   },
   "outputs": [],
   "source": [
    "# Boolean Expressions\n",
    "active = True\n",
    "offline = False"
   ]
  },
  {
   "cell_type": "code",
   "execution_count": null,
   "id": "c561a570",
   "metadata": {
    "jupyter": {
     "outputs_hidden": true
    }
   },
   "outputs": [],
   "source": [
    "# The if-elif-else Chain\n",
    "age = 20\n",
    "\n",
    "# What is the output?\n",
    "if age < 30:\n",
    "   print(\"your offer is 30%\")\n",
    "elif age < 50:\n",
    "   print(\"your offer is 50%\")\n",
    "else:\n",
    "   print(\"your offer is 60%\")\n"
   ]
  },
  {
   "cell_type": "code",
   "execution_count": null,
   "id": "1cb4ca01",
   "metadata": {
    "collapsed": true,
    "tags": []
   },
   "outputs": [],
   "source": [
    "# Using Multiple elif Blocks\n",
    "\n",
    "# What is the output?\n",
    "age = 20\n",
    "if age < 30:\n",
    "   print(\"your offer is 30%\")\n",
    "elif age < 50:\n",
    "   print(\"your offer is 50%\")\n",
    "elif age < 60:\n",
    "   print(\"your offer is 60%\")\n",
    "else:\n",
    "   print(\"your offer is 70%\")\n"
   ]
  },
  {
   "cell_type": "code",
   "execution_count": null,
   "id": "c2a917cd",
   "metadata": {
    "tags": []
   },
   "outputs": [],
   "source": [
    "#Note, Python does not require an else block at the end of an if-elif chain.\n",
    "\n",
    "# What is the output?\n",
    "age = 20\n",
    "if age < 30:\n",
    "   print(\"your offer is 30%\")\n",
    "elif age < 50:\n",
    "   print(\"your offer is 50%\")\n",
    "elif age < 60:\n",
    "   print(\"your offer is 60%\")\n",
    "\n",
    "#No else statement.\n"
   ]
  },
  {
   "cell_type": "code",
   "execution_count": null,
   "id": "6b31e812",
   "metadata": {
    "tags": []
   },
   "outputs": [],
   "source": [
    "# Take User Input and repeat it back once\n",
    "\n"
   ]
  },
  {
   "cell_type": "code",
   "execution_count": null,
   "id": "b8406655",
   "metadata": {
    "tags": []
   },
   "outputs": [],
   "source": [
    "# What is the output?\n",
    "\n",
    "prompt = \"If you tell us who you are, we can personalize the messages you see.\"\n",
    "prompt += \"\\nWhat is your first name? \"\n",
    "name = input(prompt)\n",
    "print(f\"\\nHello, {name}!\")\n"
   ]
  },
  {
   "cell_type": "code",
   "execution_count": null,
   "id": "c2cd46df",
   "metadata": {
    "tags": []
   },
   "outputs": [],
   "source": [
    "age = input(\"How old are you? \") \n",
    "\n",
    "# What is the output?\n",
    "if age >= 18 :\n",
    "    print('you can vote')\n"
   ]
  },
  {
   "cell_type": "code",
   "execution_count": null,
   "id": "094acada",
   "metadata": {
    "tags": []
   },
   "outputs": [],
   "source": [
    "#When you use the input() function, Python interprets everything the user enters as a string.\n",
    "\n",
    "age = input(\"How old are you? \")\n",
    "print(type(age))"
   ]
  },
  {
   "cell_type": "code",
   "execution_count": null,
   "id": "fab5b327",
   "metadata": {},
   "outputs": [],
   "source": [
    "age = 10\n",
    "age = \"20\"\n",
    "age"
   ]
  },
  {
   "cell_type": "code",
   "execution_count": null,
   "id": "0b4d5eba",
   "metadata": {
    "tags": []
   },
   "outputs": [],
   "source": [
    "# Use int() to Accept Numeric Input\n",
    "\n",
    "\n",
    "\n",
    "\n",
    "\n",
    "\n"
   ]
  },
  {
   "cell_type": "code",
   "execution_count": null,
   "id": "69128c4f",
   "metadata": {
    "collapsed": true,
    "tags": []
   },
   "outputs": [],
   "source": [
    "# Create a grade converter where:\n",
    "   \"\"\"\n",
    "   score less than 60 is F,\n",
    "   score less than 70 but more than or equal 60 is D\n",
    "   score less than 80 but more than or equal 70 is C\n",
    "   score less than 90 but more than or equal 80 is B\n",
    "   score less than 100 but more than or equal 90 is A\n",
    "   otherwise print \"Wrong Score\"\n",
    "   \"\"\"\n",
    "\n",
    "score = input(\"Enter Score Grade:\")\n",
    "score = int(score) \n",
    "\n",
    "\n",
    "\n",
    "\n",
    "\n",
    "\n",
    "\n",
    "\n",
    "\n"
   ]
  },
  {
   "cell_type": "code",
   "execution_count": null,
   "id": "0e1e65bc",
   "metadata": {
    "tags": []
   },
   "outputs": [],
   "source": [
    "# while Loops\n",
    "\n",
    "# What is the output?\n",
    "number = 1\n",
    "while number <= 5:\n",
    "   print(number)\n",
    "   number += 1"
   ]
  },
  {
   "cell_type": "code",
   "execution_count": null,
   "id": "0614cf9a",
   "metadata": {
    "tags": []
   },
   "outputs": [],
   "source": [
    "# Letting the User Choose When to Quit\n",
    "\n",
    "prompt = \"\\nTell me something, and I will repeat it back to you:\"\n",
    "prompt += \"\\nEnter 'quit' to end the program. \"\n",
    "\n",
    "message = \"\"\n",
    "while message != 'quit':\n",
    "   message = input(prompt)\n",
    "   print(message)\n"
   ]
  },
  {
   "cell_type": "code",
   "execution_count": null,
   "id": "aea93894",
   "metadata": {
    "tags": []
   },
   "outputs": [],
   "source": [
    "# Use a Flag\n",
    "\n",
    "prompt = \"\\nTell me something, and I will repeat it back to you:\"\n",
    "prompt += \"\\nEnter 'quit' to end the program. \"\n",
    "\n",
    "active = True\n",
    "\n",
    "\n",
    "\n",
    "\n",
    "\n"
   ]
  },
  {
   "cell_type": "code",
   "execution_count": null,
   "id": "7d23de69",
   "metadata": {
    "tags": []
   },
   "outputs": [],
   "source": [
    "#Use break to Exit a Loop\n",
    "\n",
    "prompt = \"\\nPlease enter the name of a city you have visited:\"\n",
    "prompt += \"\\n(Enter 'quit' when you are finished.) \"\n",
    "\n",
    "\n",
    "\n",
    "\n",
    "\n",
    "\n",
    "\n"
   ]
  },
  {
   "cell_type": "code",
   "execution_count": null,
   "id": "17898f8e",
   "metadata": {
    "collapsed": true,
    "tags": []
   },
   "outputs": [],
   "source": [
    "# Avoiding Infinite Loops\n",
    "# right\n",
    "x = 1\n",
    "while x <= 5:\n",
    "   print(x)\n",
    "   x += 1"
   ]
  },
  {
   "cell_type": "code",
   "execution_count": null,
   "id": "cb10d957",
   "metadata": {
    "jupyter": {
     "outputs_hidden": true
    },
    "scrolled": true,
    "tags": []
   },
   "outputs": [],
   "source": [
    "# infinite loop\n",
    "x = 1\n",
    "while 1 <= 5:\n",
    "   print(x)"
   ]
  }
 ],
 "metadata": {
  "kernelspec": {
   "display_name": "depi_env",
   "language": "python",
   "name": "python3"
  },
  "language_info": {
   "codemirror_mode": {
    "name": "ipython",
    "version": 3
   },
   "file_extension": ".py",
   "mimetype": "text/x-python",
   "name": "python",
   "nbconvert_exporter": "python",
   "pygments_lexer": "ipython3",
   "version": "3.10.15"
  }
 },
 "nbformat": 4,
 "nbformat_minor": 5
}
