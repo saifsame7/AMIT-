{
 "cells": [
  {
   "cell_type": "markdown",
   "id": "e1aa6fd3",
   "metadata": {},
   "source": [
    "# Python Sessions with DEPI - session 3"
   ]
  },
  {
   "cell_type": "markdown",
   "id": "c551e8c8",
   "metadata": {},
   "source": [
    "### Defining a Function"
   ]
  },
  {
   "cell_type": "code",
   "execution_count": 1,
   "id": "cec5ef10-03fa-4398-9cec-68057f8222d2",
   "metadata": {
    "tags": []
   },
   "outputs": [
    {
     "name": "stdout",
     "output_type": "stream",
     "text": [
      "100\n"
     ]
    }
   ],
   "source": [
    "print(100)"
   ]
  },
  {
   "cell_type": "code",
   "execution_count": 2,
   "id": "be51f265",
   "metadata": {
    "tags": []
   },
   "outputs": [
    {
     "name": "stdout",
     "output_type": "stream",
     "text": [
      "Hello!\n",
      "Hello!\n",
      "Hello!\n"
     ]
    }
   ],
   "source": [
    "# function definition. \n",
    "def say_Hello():\n",
    "   \n",
    "   print(\"Hello!\")\n",
    "   print(\"Hello!\")\n",
    "   print(\"Hello!\")\n",
    "\n",
    "# function call\n",
    "say_Hello()"
   ]
  },
  {
   "cell_type": "code",
   "execution_count": 3,
   "id": "adba1f18",
   "metadata": {
    "tags": []
   },
   "outputs": [
    {
     "name": "stdout",
     "output_type": "stream",
     "text": [
      "Hello, Ahmed!\n"
     ]
    }
   ],
   "source": [
    "# Passing Information to a Function\n",
    "def say_Hello(username):\n",
    "   \"\"\"Display a simple greeting.\"\"\"\n",
    "   print(f\"Hello, {username.title()}!\")\n",
    "\n",
    "say_Hello('ahmed')"
   ]
  },
  {
   "cell_type": "markdown",
   "id": "f2a10661",
   "metadata": {},
   "source": [
    "### Arguments and Parameters\n",
    "The variable username in the definition of say_Hello() is an example of a\n",
    "**parameter**, a piece of information the function needs to do its job. \n",
    "The **value 'ahmed' in say_Hello('ahmed') is an example of an argument**. \n",
    "An argument is a piece of information that’s passed from a function call to a function.\n"
   ]
  },
  {
   "cell_type": "code",
   "execution_count": 6,
   "id": "d16d0e83",
   "metadata": {
    "tags": []
   },
   "outputs": [
    {
     "name": "stdout",
     "output_type": "stream",
     "text": [
      "\n",
      "I have a dog.\n",
      "My dog's name is Harry.\n"
     ]
    }
   ],
   "source": [
    "# Positional Arguments\n",
    "\n",
    "def describe_pet(animal_type, pet_name):\n",
    "   \n",
    "   print(f\"\\nI have a {animal_type}.\")\n",
    "   print(f\"My {animal_type}'s name is {pet_name.title()}.\")\n",
    "\n",
    "describe_pet('dog', 'harry')\n"
   ]
  },
  {
   "cell_type": "code",
   "execution_count": 7,
   "id": "cc27acaf",
   "metadata": {
    "tags": []
   },
   "outputs": [
    {
     "name": "stdout",
     "output_type": "stream",
     "text": [
      "\n",
      "I have a dog.\n",
      "My dog's name is Harry.\n",
      "\n",
      "I have a cat.\n",
      "My cat's name is Lilly.\n",
      "\n",
      "I have a dog.\n",
      "My dog's name is Max.\n"
     ]
    }
   ],
   "source": [
    "# Multiple Function Calls\n",
    "\n",
    "describe_pet('dog', 'harry')\n",
    "describe_pet('cat', 'lilly')\n",
    "describe_pet('dog', 'max')"
   ]
  },
  {
   "cell_type": "code",
   "execution_count": 8,
   "id": "f464ff7c",
   "metadata": {
    "tags": []
   },
   "outputs": [
    {
     "name": "stdout",
     "output_type": "stream",
     "text": [
      "\n",
      "I have a max.\n",
      "My max's name is Dog.\n"
     ]
    }
   ],
   "source": [
    "#Order Matters in Positional Arguments\n",
    "describe_pet('max','dog')\n"
   ]
  },
  {
   "cell_type": "code",
   "execution_count": 9,
   "id": "20f75bb2",
   "metadata": {
    "tags": []
   },
   "outputs": [
    {
     "name": "stdout",
     "output_type": "stream",
     "text": [
      "\n",
      "I have a dog.\n",
      "My dog's name is Max.\n",
      "\n",
      "I have a dog.\n",
      "My dog's name is Max.\n"
     ]
    }
   ],
   "source": [
    "# Keyword Arguments\n",
    "def describe_pet(animal_type, pet_name):\n",
    "   \"\"\"Display information about a pet.\"\"\"\n",
    "   print(f\"\\nI have a {animal_type}.\")\n",
    "   print(f\"My {animal_type}'s name is {pet_name.title()}.\")\n",
    "   \n",
    "\n",
    "describe_pet(animal_type='dog', pet_name='max')\n",
    "# or\n",
    "describe_pet( pet_name='max', animal_type='dog')\n"
   ]
  },
  {
   "cell_type": "code",
   "execution_count": 10,
   "id": "cf5850fe",
   "metadata": {
    "collapsed": true,
    "tags": []
   },
   "outputs": [
    {
     "name": "stdout",
     "output_type": "stream",
     "text": [
      "\n",
      "your name is: Mahmoud Hassan.\n",
      "phone : 2515151\n",
      "Age : 20\n",
      "Address : Egypt\n"
     ]
    }
   ],
   "source": [
    "# Quiz \n",
    "\n",
    "def about_user(user_name, phone,age,address):\n",
    "   \"\"\"Display information about a pet.\"\"\"\n",
    "   print(f\"\\nyour name is: {user_name.title()}.\")\n",
    "   print(f\"phone : {phone}\")\n",
    "   print(f\"Age : {age}\")\n",
    "   print(f\"Address : {address.title()}\")\n",
    "\n",
    "about_user(user_name='mahmoud hassan', phone='2515151', age=20, address='egypt' )"
   ]
  },
  {
   "cell_type": "code",
   "execution_count": 12,
   "id": "12715b78",
   "metadata": {
    "tags": []
   },
   "outputs": [
    {
     "name": "stdout",
     "output_type": "stream",
     "text": [
      "\n",
      "your name is: Mahmoud Hassan.\n",
      "phone : 01054488544155\n",
      "Age : 20\n",
      "Address : Usa\n"
     ]
    }
   ],
   "source": [
    "# Default Values\n",
    "def about_user(user_name, phone,age,address='Egypt'):\n",
    "   \"\"\"Display information about a pet.\"\"\"\n",
    "   print(f\"\\nyour name is: {user_name.title()}.\")\n",
    "   print(f\"phone : {phone}\")\n",
    "   print(f\"Age : {age}\")\n",
    "   print(f\"Address : {address.title()}\")\n",
    "\n",
    "about_user(user_name='mahmoud hassan', phone='01054488544155', age=20, address=\"USA\")"
   ]
  },
  {
   "cell_type": "code",
   "execution_count": 13,
   "id": "0a2c2c92",
   "metadata": {
    "tags": []
   },
   "outputs": [
    {
     "name": "stdout",
     "output_type": "stream",
     "text": [
      "\n",
      "your name is: Mahmoud.\n",
      "phone : 6516516\n",
      "Age : 20\n",
      "Address : Egypt\n"
     ]
    }
   ],
   "source": [
    "#OR\n",
    "\n",
    "def about_user(user_name, phone='6516516',age=20,address='Egypt'):\n",
    "   \"\"\"Display information about a pet.\"\"\"\n",
    "   print(f\"\\nyour name is: {user_name.title()}.\")\n",
    "   print(f\"phone : {phone}\")\n",
    "   print(f\"Age : {age}\")\n",
    "   print(f\"Address : {address.title()}\")\n",
    "\n",
    "about_user('mahmoud')\n"
   ]
  },
  {
   "cell_type": "code",
   "execution_count": 15,
   "id": "198c7db8-efb9-4dd2-b025-392e03f5be1d",
   "metadata": {
    "tags": []
   },
   "outputs": [
    {
     "name": "stdout",
     "output_type": "stream",
     "text": [
      "Ali Hassan\n",
      "<class 'NoneType'> None\n"
     ]
    }
   ],
   "source": [
    "def get_name(first_name, last_name):\n",
    "   \n",
    "   full_name = f\"{first_name} {last_name}\"\n",
    "   \n",
    "   print(full_name.title())\n",
    "    \n",
    "x = get_name('ali', 'hassan')\n",
    "print(type(x), x)"
   ]
  },
  {
   "cell_type": "code",
   "execution_count": 16,
   "id": "c911e100",
   "metadata": {
    "tags": []
   },
   "outputs": [
    {
     "name": "stdout",
     "output_type": "stream",
     "text": [
      "Ali Hassan\n"
     ]
    }
   ],
   "source": [
    "# Return Values\n",
    "\n",
    "def get_name(first_name, last_name):\n",
    "   \n",
    "   full_name = f\"{first_name} {last_name}\"\n",
    "   \n",
    "   return full_name.title()\n",
    "\n",
    "name_from_function = get_name('ali', 'hassan')\n",
    "print(name_from_function)\n"
   ]
  },
  {
   "cell_type": "code",
   "execution_count": 17,
   "id": "ecb24abe",
   "metadata": {
    "collapsed": true,
    "tags": []
   },
   "outputs": [
    {
     "data": {
      "text/plain": [
       "'Ola Hassan'"
      ]
     },
     "execution_count": 17,
     "metadata": {},
     "output_type": "execute_result"
    }
   ],
   "source": [
    "name_from_function_2 = get_name('ola', 'hassan')\n",
    "name_from_function_2"
   ]
  },
  {
   "cell_type": "code",
   "execution_count": 18,
   "id": "951a7ab9",
   "metadata": {
    "tags": []
   },
   "outputs": [
    {
     "name": "stdout",
     "output_type": "stream",
     "text": [
      "30\n"
     ]
    }
   ],
   "source": [
    "def abc(num1, num2):\n",
    "    number = num1 + num2\n",
    "    #print(number)\n",
    "    return number\n",
    "\n",
    "    \n",
    "a = abc(10, 20)    \n",
    "print(a)"
   ]
  },
  {
   "cell_type": "code",
   "execution_count": null,
   "id": "b16e71f8",
   "metadata": {
    "jupyter": {
     "outputs_hidden": true
    }
   },
   "outputs": [],
   "source": []
  },
  {
   "cell_type": "markdown",
   "id": "2d668d1b",
   "metadata": {},
   "source": [
    "### Quiz \n",
    "Passing a List\n",
    "\n",
    "\n",
    "Print this output by passing a list of names to a function called say_hello_username()\n",
    "\n",
    "\n",
    "Hello, Ali!\n",
    "\n",
    "Hello, Samy!\n",
    "    \n",
    "Hello, Mahmoud!\n"
   ]
  },
  {
   "cell_type": "code",
   "execution_count": 19,
   "id": "6055adcf",
   "metadata": {
    "jupyter": {
     "outputs_hidden": true
    }
   },
   "outputs": [
    {
     "name": "stdout",
     "output_type": "stream",
     "text": [
      "Hello, Ali!\n",
      "Hello, Samy!\n",
      "Hello, Mahmoud!\n"
     ]
    }
   ],
   "source": [
    "def say_hello_username(names):\n",
    "    \"\"\"_summary_\n",
    "        Prints graeatings to each name in the argument list\n",
    "    Args:\n",
    "        names (list): list of names.\n",
    "    \"\"\"\n",
    "    for name in names:\n",
    "        message = f\"Hello, {name.title()}!\"\n",
    "        print(message)\n",
    "\n",
    "\n",
    "usernames = ['ali', 'samy', 'mahmoud']\n",
    "say_hello_username(usernames)"
   ]
  },
  {
   "cell_type": "code",
   "execution_count": null,
   "id": "d89fd665",
   "metadata": {
    "tags": []
   },
   "outputs": [],
   "source": [
    "#solution\n",
    "def say_hello_username(names):\n",
    "   \"\"\"Print a simple greeting to each user in the list.\"\"\"\n",
    "   for name in names:\n",
    "       msg = f\"Hello, {name.title()}!\"\n",
    "       print(msg)\n",
    "\n",
    "usernames = ['ali', 'samy', 'mahmoud']\n",
    "say_hello_username(usernames)\n"
   ]
  },
  {
   "cell_type": "code",
   "execution_count": 24,
   "id": "5ac04153",
   "metadata": {
    "jupyter": {
     "outputs_hidden": true
    }
   },
   "outputs": [
    {
     "name": "stdout",
     "output_type": "stream",
     "text": [
      "Writing hello.py\n"
     ]
    }
   ],
   "source": [
    "%%writefile hello.py\n",
    "# test.py\n",
    "\n",
    "def say_hello_username(names):\n",
    "    \"\"\"_summary_\n",
    "        Prints graeatings to each name in the argument list\n",
    "    Args:\n",
    "        names (list): list of names.\n",
    "    \"\"\"\n",
    "    for name in names:\n",
    "        message = f\"Hello, {name.title()}!\"\n",
    "        print(message)"
   ]
  },
  {
   "cell_type": "code",
   "execution_count": 25,
   "id": "b42dea2c",
   "metadata": {
    "jupyter": {
     "outputs_hidden": true
    }
   },
   "outputs": [
    {
     "name": "stdout",
     "output_type": "stream",
     "text": [
      "Hello, Max!\n",
      "Hello, Samy!\n",
      "Hello, Mahmoud!\n"
     ]
    }
   ],
   "source": [
    "# say.py\n",
    "\n",
    "import hello\n",
    "usernames = ['max', 'samy', 'mahmoud']\n",
    "hello.say_hello_username(usernames)\n"
   ]
  },
  {
   "cell_type": "code",
   "execution_count": 36,
   "id": "681bc50a",
   "metadata": {
    "tags": []
   },
   "outputs": [],
   "source": [
    "with open('data.txt', 'a+') as f:\n",
    "    data = f.write(\"My name is Mostafa\\n\")"
   ]
  },
  {
   "cell_type": "markdown",
   "id": "7bdefd73",
   "metadata": {},
   "source": [
    "open() takes a filename and a mode as its arguments. r opens the file in read only mode. To write data to a file, pass in w as an argument instead:\n"
   ]
  },
  {
   "cell_type": "code",
   "execution_count": 37,
   "id": "14dee1c1",
   "metadata": {
    "tags": []
   },
   "outputs": [],
   "source": [
    "with open('data.txt', 'w') as f:\n",
    "    data = 'some data to be written to the file'\n",
    "    f.write(data)"
   ]
  },
  {
   "cell_type": "markdown",
   "id": "b5c666c0",
   "metadata": {},
   "source": [
    "# Great job!!"
   ]
  }
 ],
 "metadata": {
  "kernelspec": {
   "display_name": "depi_env",
   "language": "python",
   "name": "python3"
  },
  "language_info": {
   "codemirror_mode": {
    "name": "ipython",
    "version": 3
   },
   "file_extension": ".py",
   "mimetype": "text/x-python",
   "name": "python",
   "nbconvert_exporter": "python",
   "pygments_lexer": "ipython3",
   "version": "3.10.15"
  }
 },
 "nbformat": 4,
 "nbformat_minor": 5
}
